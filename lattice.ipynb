{
 "cells": [
  {
   "cell_type": "code",
   "execution_count": 1,
   "id": "material-steel",
   "metadata": {},
   "outputs": [],
   "source": [
    "from pymatgen import MPRester\n",
    "from jupyter_jsmol.pymatgen import quick_view\n",
    "from pymatgen.symmetry.analyzer import SpacegroupAnalyzer"
   ]
  },
  {
   "cell_type": "code",
   "execution_count": 2,
   "id": "modern-colon",
   "metadata": {},
   "outputs": [],
   "source": [
    "with MPRester(\"6wCWi8tP1m0OLbQ4\") as m:\n",
    "\n",
    "    # Structure for material id\n",
    "    structure = m.get_structure_by_material_id(\"mp-12908\")\n",
    "\n",
    "    # Dos for material id\n",
    "    dos = m.get_dos_by_material_id(\"mp-12908\")\n",
    "\n",
    "    # Bandstructure for material id\n",
    "    bandstructure = m.get_bandstructure_by_material_id(\"mp-12908\")"
   ]
  },
  {
   "cell_type": "code",
   "execution_count": 3,
   "id": "educated-porcelain",
   "metadata": {},
   "outputs": [
    {
     "name": "stdout",
     "output_type": "stream",
     "text": [
      "Full Formula (Sc1 Ag1 Se2)\n",
      "Reduced Formula: ScAgSe2\n",
      "abc   :   3.925932   3.925932   6.637664\n",
      "angles:  90.000000  90.000000 120.000002\n",
      "Sites (4)\n",
      "  #  SP           a         b         c    magmom\n",
      "---  ----  --------  --------  --------  --------\n",
      "  0  Sc    0         0         0               -0\n",
      "  1  Ag    0         0         0.5              0\n",
      "  2  Se    0.333333  0.666667  0.231786        -0\n",
      "  3  Se    0.666667  0.333333  0.768214        -0\n"
     ]
    }
   ],
   "source": [
    "#view = quick_view(structure)\n",
    "#display(view)\n",
    "print(structure)"
   ]
  },
  {
   "cell_type": "code",
   "execution_count": 4,
   "id": "monetary-bachelor",
   "metadata": {},
   "outputs": [
    {
     "name": "stdout",
     "output_type": "stream",
     "text": [
      "P-3m1\n",
      "groupe ponctuel :  -3m\n",
      "système cristallin:  trigonal\n",
      "type de maille:  hexagonal\n",
      "Réseau réciproque a*,b* et c* sont chacuns donnés respectivement sur une ligne :\n",
      "1.600432 -0.924010 0.000000\n",
      "1.600432 0.924010 0.000000\n",
      "0.000000 0.000000 0.946596\n"
     ]
    }
   ],
   "source": [
    "print(SpacegroupAnalyzer(structure).get_space_group_symbol())\n",
    "print(\"groupe ponctuel : \",SpacegroupAnalyzer(structure).get_point_group_symbol())\n",
    "print(\"système cristallin: \",SpacegroupAnalyzer(structure).get_crystal_system())\n",
    "print(\"type de maille: \",SpacegroupAnalyzer(structure).get_lattice_type())\n",
    "print(\"Réseau réciproque a*,b* et c* sont chacuns donnés respectivement sur une ligne :\")\n",
    "print(structure.lattice.reciprocal_lattice)\n"
   ]
  },
  {
   "cell_type": "code",
   "execution_count": null,
   "id": "familiar-rachel",
   "metadata": {},
   "outputs": [],
   "source": []
  }
 ],
 "metadata": {
  "kernelspec": {
   "display_name": "Python 3",
   "language": "python",
   "name": "python3"
  },
  "language_info": {
   "codemirror_mode": {
    "name": "ipython",
    "version": 3
   },
   "file_extension": ".py",
   "mimetype": "text/x-python",
   "name": "python",
   "nbconvert_exporter": "python",
   "pygments_lexer": "ipython3",
   "version": "3.6.8"
  }
 },
 "nbformat": 4,
 "nbformat_minor": 5
}
