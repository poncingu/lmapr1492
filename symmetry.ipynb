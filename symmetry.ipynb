{
 "cells": [
  {
   "cell_type": "code",
   "execution_count": 1,
   "id": "toxic-circuit",
   "metadata": {},
   "outputs": [],
   "source": [
    "from pymatgen import Lattice, Structure\n",
    "from pymatgen.symmetry.analyzer import SpacegroupAnalyzer\n",
    "from jupyter_jsmol.pymatgen import quick_view\n",
    "from pymatgen.ext.matproj import MPRester"
   ]
  },
  {
   "cell_type": "code",
   "execution_count": 2,
   "id": "plastic-buffalo",
   "metadata": {},
   "outputs": [],
   "source": [
    "with MPRester(\"6wCWi8tP1m0OLbQ4\") as m:\n",
    "\n",
    "    # Str<ucture for material id\n",
    "    structure = m.get_structure_by_material_id(\"mp-12908\")\n",
    "\n",
    "    # Dos for material id\n",
    "    dos = m.get_dos_by_material_id(\"mp-12908\")\n",
    "\n",
    "    # Bandstructure for material id\n",
    "    bandstructure = m.get_bandstructure_by_material_id(\"mp-12908\")"
   ]
  },
  {
   "cell_type": "markdown",
   "id": "wooden-syntax",
   "metadata": {},
   "source": [
    "# Visualisation du cristal"
   ]
  },
  {
   "cell_type": "code",
   "execution_count": 3,
   "id": "super-virtue",
   "metadata": {
    "scrolled": true
   },
   "outputs": [
    {
     "data": {
      "application/vnd.jupyter.widget-view+json": {
       "model_id": "ac49aa903a0444ef817b874dcbb1a1f2",
       "version_major": 2,
       "version_minor": 0
      },
      "text/plain": [
       "JsmolView(layout=Layout(align_self='stretch', height='400px'))"
      ]
     },
     "metadata": {},
     "output_type": "display_data"
    }
   ],
   "source": [
    "view = quick_view(structure, \"packed\", supercell = [2,2,2])\n",
    "display(view)\n"
   ]
  },
  {
   "cell_type": "markdown",
   "id": "compliant-danger",
   "metadata": {},
   "source": [
    "Première visualisation du réseau cristallin étendu à 8 cellules conventionnelles."
   ]
  },
  {
   "cell_type": "markdown",
   "id": "selected-salad",
   "metadata": {},
   "source": [
    "# Symétrie n°1 : Inversion"
   ]
  },
  {
   "cell_type": "code",
   "execution_count": 4,
   "id": "varying-respondent",
   "metadata": {},
   "outputs": [
    {
     "data": {
      "application/vnd.jupyter.widget-view+json": {
       "model_id": "971670ffa9d84071909fd36342cb4664",
       "version_major": 2,
       "version_minor": 0
      },
      "text/plain": [
       "JsmolView(layout=Layout(align_self='stretch', height='400px'))"
      ]
     },
     "metadata": {},
     "output_type": "display_data"
    }
   ],
   "source": [
    "view=quick_view(structure)\n",
    "display(view)\n",
    "view.script(\"draw symop 2 {atomno=4}\")"
   ]
  },
  {
   "cell_type": "markdown",
   "id": "congressional-jacksonville",
   "metadata": {},
   "source": [
    "Opération de symétrie : inversion \\\n",
    "\\\n",
    "Atome cible de la symétrie : atome n°4 \\\n",
    "\\\n",
    "Nouvelle position dans la cellule unité : atome n°1 \\\n",
    "\\\n",
    "Élément de symétrie : l'atome n°1 fait office de centre de symétrie  \\\n",
    "\\\n",
    "Équation de symétrie correspondante : \n",
    "\n",
    "$$\n",
    "\\left(\\begin{array}{cc} \n",
    "-1 & 0 & 0\\\\\n",
    "0 & -1 & 0\\\\\n",
    "0 & 0 & -1\n",
    "\\end{array}\\right)\n",
    "\\left(\\begin{array}{cc} \n",
    "x\\\\ \n",
    "y\\\\\n",
    "z\n",
    "\\end{array}\\right)=\n",
    "\\left(\\begin{array}{cc} \n",
    "-x\\\\ \n",
    "-y\\\\\n",
    "-z\n",
    "\\end{array}\\right)\n",
    "$$ "
   ]
  },
  {
   "cell_type": "markdown",
   "id": "figured-institution",
   "metadata": {},
   "source": [
    "# Symétrie n°2 : Rotation d'ordre 3"
   ]
  },
  {
   "cell_type": "code",
   "execution_count": 5,
   "id": "considered-mission",
   "metadata": {},
   "outputs": [
    {
     "data": {
      "application/vnd.jupyter.widget-view+json": {
       "model_id": "59b07d8b1e48456294582a1727d1779c",
       "version_major": 2,
       "version_minor": 0
      },
      "text/plain": [
       "JsmolView(layout=Layout(align_self='stretch', height='400px'))"
      ]
     },
     "metadata": {},
     "output_type": "display_data"
    }
   ],
   "source": [
    "view=quick_view(structure)\n",
    "display(view)\n",
    "view.script(\"draw symop 3 {atomno=3}\")"
   ]
  },
  {
   "cell_type": "markdown",
   "id": "turkish-washer",
   "metadata": {},
   "source": [
    "Opération de symétrie : rotation autour d'un axe d'ordre 3 \\\n",
    "\\\n",
    "Atome cible de la symétrie : atome n°3 \\\n",
    "\\\n",
    "Nouvelle position dans la cellule unité : atome n°3 \\\n",
    "\\\n",
    "Élément de symétrie : L'axe [001] fait office d'axe de symétrie  \\\n",
    "\\\n",
    "Équation de symétrie correspondante : \n",
    "\n",
    "$$\n",
    "\\left(\\begin{array}{cc} \n",
    "0 & -1 & 0\\\\\n",
    "1 & -1 & 0\\\\\n",
    "0 & 0 & 1\n",
    "\\end{array}\\right)\n",
    "\\left(\\begin{array}{cc} \n",
    "x\\\\ \n",
    "y\\\\\n",
    "z\n",
    "\\end{array}\\right)=\n",
    "\\left(\\begin{array}{cc} \n",
    "-y\\\\ \n",
    "x-y\\\\\n",
    "z\n",
    "\\end{array}\\right)\n",
    "$$ "
   ]
  },
  {
   "cell_type": "markdown",
   "id": "inner-collectible",
   "metadata": {},
   "source": [
    "# Symétrie n°3 : Plan miroir"
   ]
  },
  {
   "cell_type": "code",
   "execution_count": 6,
   "id": "colonial-fiber",
   "metadata": {
    "scrolled": true
   },
   "outputs": [
    {
     "data": {
      "application/vnd.jupyter.widget-view+json": {
       "model_id": "003cdf9e5e774ea9ab4b07efe732687d",
       "version_major": 2,
       "version_minor": 0
      },
      "text/plain": [
       "JsmolView(layout=Layout(align_self='stretch', height='400px'))"
      ]
     },
     "metadata": {},
     "output_type": "display_data"
    }
   ],
   "source": [
    "view=quick_view(structure)\n",
    "display(view)\n",
    "view.script(\"draw symop 10 {atomno=12}\")"
   ]
  },
  {
   "cell_type": "markdown",
   "id": "commercial-glossary",
   "metadata": {},
   "source": [
    "Opération de symétrie : Plan miroir  \\\n",
    "\\\n",
    "Atome cible de la symétrie : atome n°12 \\\n",
    "\\\n",
    "Nouvelle position dans la cellule unité : atome n°2 \\\n",
    "\\\n",
    "Élément de symétrie : Le plan (020) fait office de plan de symétrie  \\\n",
    "\\\n",
    "Équation de symétrie correspondante : \n",
    "\n",
    "$$\n",
    "\\left(\\begin{array}{cc} \n",
    "-1 & 1 & 0\\\\\n",
    "0 & 1 & 0\\\\\n",
    "0 & 0 & 1\n",
    "\\end{array}\\right)\n",
    "\\left(\\begin{array}{cc} \n",
    "x\\\\ \n",
    "y\\\\\n",
    "z\n",
    "\\end{array}\\right)=\n",
    "\\left(\\begin{array}{cc} \n",
    "-x+y\\\\ \n",
    "y\\\\\n",
    "z\n",
    "\\end{array}\\right)\n",
    "$$ "
   ]
  },
  {
   "cell_type": "markdown",
   "id": "noted-chemistry",
   "metadata": {},
   "source": [
    "# Les groupes ponctuels\n",
    "L'ensemble de ces opérations ponctuelles ainsi que celles non représentées ci-dessus mais bien présentes au sein de ce cristal, forment un groupe au sens mathématique :\n",
    "\n",
    "- Le groupe est muni d'une loi de composition interne \n",
    "\n",
    "\n",
    "- La loi de composition interne est associative \n",
    "\n",
    "\n",
    "- Il existe un élément neutre (l'identité E, l'opération de symétrie n°1 dans le fichier CIF)\n",
    "\n",
    "\n",
    "- Pour tout élément du groupe, il existe un inverse \n"
   ]
  },
  {
   "cell_type": "markdown",
   "id": "second-accuracy",
   "metadata": {},
   "source": [
    "# Sources\n",
    "\n",
    "- LMAPR1492 : Physique des matériaux"
   ]
  }
 ],
 "metadata": {
  "kernelspec": {
   "display_name": "Python 3",
   "language": "python",
   "name": "python3"
  },
  "language_info": {
   "codemirror_mode": {
    "name": "ipython",
    "version": 3
   },
   "file_extension": ".py",
   "mimetype": "text/x-python",
   "name": "python",
   "nbconvert_exporter": "python",
   "pygments_lexer": "ipython3",
   "version": "3.6.8"
  }
 },
 "nbformat": 4,
 "nbformat_minor": 5
}
